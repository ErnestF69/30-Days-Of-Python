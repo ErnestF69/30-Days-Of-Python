{
  "nbformat": 4,
  "nbformat_minor": 0,
  "metadata": {
    "colab": {
      "provenance": [],
      "authorship_tag": "ABX9TyPg93sNcDWws5Diez/vJ+Bw",
      "include_colab_link": true
    },
    "kernelspec": {
      "name": "python3",
      "display_name": "Python 3"
    },
    "language_info": {
      "name": "python"
    }
  },
  "cells": [
    {
      "cell_type": "markdown",
      "metadata": {
        "id": "view-in-github",
        "colab_type": "text"
      },
      "source": [
        "<a href=\"https://colab.research.google.com/github/ErnestF69/30-Days-Of-Python/blob/master/Ernest_Practice1_081124.ipynb\" target=\"_parent\"><img src=\"https://colab.research.google.com/assets/colab-badge.svg\" alt=\"Open In Colab\"/></a>"
      ]
    },
    {
      "cell_type": "code",
      "execution_count": 1,
      "metadata": {
        "id": "Wo9FY641OH4g",
        "colab": {
          "base_uri": "https://localhost:8080/"
        },
        "outputId": "4f5d2aa8-f0ff-4418-b739-33a4ee255a87"
      },
      "outputs": [
        {
          "output_type": "stream",
          "name": "stdout",
          "text": [
            "Cloning into '30-Days-Of-Python'...\n",
            "remote: Enumerating objects: 1911, done.\u001b[K\n",
            "remote: Counting objects: 100% (91/91), done.\u001b[K\n",
            "remote: Compressing objects: 100% (60/60), done.\u001b[K\n",
            "remote: Total 1911 (delta 38), reused 64 (delta 24), pack-reused 1820\u001b[K\n",
            "Receiving objects: 100% (1911/1911), 29.08 MiB | 15.62 MiB/s, done.\n",
            "Resolving deltas: 100% (953/953), done.\n"
          ]
        }
      ],
      "source": [
        "!git clone https://github.com/ErnestF69/30-Days-Of-Python"
      ]
    },
    {
      "cell_type": "code",
      "source": [
        "# Introduction\n",
        "# Day 1 - 30DaysOfpython Challenge\n",
        "\n",
        "print(2 + 3)\n",
        "print(3 - 1)\n",
        "print(2 + 3)\n",
        "print(3 / 2)\n",
        "print(3 ** 2)\n",
        "print(3 % 2)\n",
        "print(3 // 2)\n",
        "\n",
        "# Checking data types\n",
        "\n",
        "print(type(10))\n",
        "print(type (3.14))\n",
        "print(type(1 + 3j))\n",
        "print(type('Ernest'))\n",
        "print(type([1, 2, 3]))\n",
        "print(type({'name' : 'Ernest'}))\n",
        "print(type({9.8, 3.14, 2.7}))\n",
        "print(type((9.8, 3.14, 2.7)))\n",
        "\n",
        "\n"
      ],
      "metadata": {
        "id": "H0zi20iuONMZ",
        "colab": {
          "base_uri": "https://localhost:8080/"
        },
        "outputId": "30ec4f43-0776-4a42-8805-2c51d3f37c52"
      },
      "execution_count": 8,
      "outputs": [
        {
          "output_type": "stream",
          "name": "stdout",
          "text": [
            "5\n",
            "2\n",
            "5\n",
            "1.5\n",
            "9\n",
            "1\n",
            "1\n",
            "<class 'int'>\n",
            "<class 'float'>\n",
            "<class 'complex'>\n",
            "<class 'str'>\n",
            "<class 'list'>\n",
            "<class 'dict'>\n",
            "<class 'set'>\n",
            "<class 'tuple'>\n"
          ]
        }
      ]
    }
  ]
}